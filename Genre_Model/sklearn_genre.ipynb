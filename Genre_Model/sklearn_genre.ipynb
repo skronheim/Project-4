{
 "cells": [
  {
   "cell_type": "code",
   "execution_count": 88,
   "id": "ed8e84e8",
   "metadata": {},
   "outputs": [],
   "source": [
    "import pandas as pd\n",
    "from sklearn.model_selection import train_test_split\n",
    "from sklearn.preprocessing import StandardScaler\n",
    "from sklearn.linear_model import LogisticRegression"
   ]
  },
  {
   "cell_type": "code",
   "execution_count": 89,
   "id": "64c22a0a",
   "metadata": {},
   "outputs": [],
   "source": [
    "# Loads the data into a DataFrame\n",
    "df = pd.read_csv(\"../Resources/filtered_encoded_dataset.csv\")"
   ]
  },
  {
   "cell_type": "code",
   "execution_count": 90,
   "id": "d1fe97e4",
   "metadata": {},
   "outputs": [],
   "source": [
    "# Select the relevant features and the target variable for track_genre_0\n",
    "features = ['popularity', 'explicit', 'danceability', 'energy', 'loudness', 'mode', 'speechiness', 'acousticness',\n",
    "            'instrumentalness', 'liveness', 'valence', 'tempo', 'duration_min', 'time_signature_0',\n",
    "            'time_signature_1', 'time_signature_3', 'time_signature_4', 'time_signature_5', 'key_0', 'key_1',\n",
    "            'key_2', 'key_3', 'key_4', 'key_5', 'key_6', 'key_7', 'key_8', 'key_9', 'key_10', 'key_11',\n",
    "            'num_artists_binned_1', 'num_artists_binned_2', 'num_artists_binned_3', 'num_artists_binned_4',\n",
    "            'num_artists_binned_5', 'num_artists_binned_6']\n",
    "\n",
    "target = 'track_genre_0'\n",
    "\n",
    "X = df[features]\n",
    "y = df[target]"
   ]
  },
  {
   "cell_type": "code",
   "execution_count": 91,
   "id": "2bed6942",
   "metadata": {},
   "outputs": [],
   "source": [
    "# Split the data into training and testing sets\n",
    "X_train, X_test, y_train, y_test = train_test_split(X, y, test_size=0.2, random_state=42)"
   ]
  },
  {
   "cell_type": "code",
   "execution_count": 92,
   "id": "a8de257b",
   "metadata": {},
   "outputs": [],
   "source": [
    "# Scale the features\n",
    "scaler = StandardScaler()\n",
    "X_train_scaled = scaler.fit_transform(X_train)\n",
    "X_test_scaled = scaler.transform(X_test)"
   ]
  },
  {
   "cell_type": "code",
   "execution_count": 93,
   "id": "ea135b95",
   "metadata": {},
   "outputs": [],
   "source": [
    "# Create a logistic regression model\n",
    "model = LogisticRegression()"
   ]
  },
  {
   "cell_type": "code",
   "execution_count": 94,
   "id": "1f24008d",
   "metadata": {},
   "outputs": [
    {
     "data": {
      "text/plain": [
       "LogisticRegression()"
      ]
     },
     "execution_count": 94,
     "metadata": {},
     "output_type": "execute_result"
    }
   ],
   "source": [
    "# Train the model\n",
    "model.fit(X_train_scaled, y_train)"
   ]
  },
  {
   "cell_type": "code",
   "execution_count": 95,
   "id": "84888fe2",
   "metadata": {},
   "outputs": [],
   "source": [
    "# Predict on the test set\n",
    "predictions = model.predict(X_test_scaled)"
   ]
  },
  {
   "cell_type": "code",
   "execution_count": 96,
   "id": "7b749af0",
   "metadata": {},
   "outputs": [
    {
     "name": "stdout",
     "output_type": "stream",
     "text": [
      "Accuracy: 0.5938793483047116\n"
     ]
    }
   ],
   "source": [
    "# Evaluate the model\n",
    "accuracy = model.score(X_test_scaled, y_test)\n",
    "print(\"Accuracy:\", accuracy)"
   ]
  },
  {
   "cell_type": "code",
   "execution_count": 97,
   "id": "2a137919",
   "metadata": {},
   "outputs": [],
   "source": [
    "# The model demonstrates meaningful predictive power at least 75% \n",
    "# classification accuracy or 0.80 R-squared. (5 points)"
   ]
  },
  {
   "cell_type": "code",
   "execution_count": null,
   "id": "09c24cbe",
   "metadata": {},
   "outputs": [],
   "source": []
  }
 ],
 "metadata": {
  "kernelspec": {
   "display_name": "Python 3 (ipykernel)",
   "language": "python",
   "name": "python3"
  },
  "language_info": {
   "codemirror_mode": {
    "name": "ipython",
    "version": 3
   },
   "file_extension": ".py",
   "mimetype": "text/x-python",
   "name": "python",
   "nbconvert_exporter": "python",
   "pygments_lexer": "ipython3",
   "version": "3.9.13"
  }
 },
 "nbformat": 4,
 "nbformat_minor": 5
}
