{
  "nbformat": 4,
  "nbformat_minor": 0,
  "metadata": {
    "colab": {
      "provenance": [],
      "include_colab_link": true
    },
    "kernelspec": {
      "name": "python3",
      "display_name": "Python 3"
    },
    "language_info": {
      "name": "python"
    }
  },
  "cells": [
    {
      "cell_type": "markdown",
      "metadata": {
        "id": "view-in-github",
        "colab_type": "text"
      },
      "source": [
        "<a href=\"https://colab.research.google.com/github/skronheim/project-4/blob/carly/Project_4_Genre_(2).ipynb\" target=\"_parent\"><img src=\"https://colab.research.google.com/assets/colab-badge.svg\" alt=\"Open In Colab\"/></a>"
      ]
    },
    {
      "cell_type": "code",
      "source": [
        "import os\n",
        "# Find the latest version of spark 3.x  from http://www.apache.org/dist/spark/ and enter as the spark version\n",
        "# For example:\n",
        "# spark_version = 'spark-3.3.1'\n",
        "spark_version = 'spark-3.3.2'\n",
        "os.environ['SPARK_VERSION']=spark_version\n",
        "\n",
        "# Install Spark and Java\n",
        "!apt-get update\n",
        "!apt-get install openjdk-11-jdk-headless -qq > /dev/null\n",
        "!wget -q http://www.apache.org/dist/spark/$SPARK_VERSION/$SPARK_VERSION-bin-hadoop3.tgz\n",
        "!tar xf $SPARK_VERSION-bin-hadoop3.tgz\n",
        "!pip install -q findspark\n",
        "\n",
        "# Set Environment Variables\n",
        "os.environ[\"JAVA_HOME\"] = \"/usr/lib/jvm/java-11-openjdk-amd64\"\n",
        "os.environ[\"SPARK_HOME\"] = f\"/content/{spark_version}-bin-hadoop3\"\n",
        "\n",
        "# Start a SparkSession\n",
        "import findspark\n",
        "findspark.init()"
      ],
      "metadata": {
        "colab": {
          "base_uri": "https://localhost:8080/"
        },
        "id": "Q_wlNfkO-08x",
        "outputId": "0cfbfb79-7656-436d-809b-d4ab5db46d62"
      },
      "execution_count": 15,
      "outputs": [
        {
          "output_type": "stream",
          "name": "stdout",
          "text": [
            "Hit:1 http://security.ubuntu.com/ubuntu focal-security InRelease\n",
            "Hit:2 http://archive.ubuntu.com/ubuntu focal InRelease\n",
            "Hit:3 http://archive.ubuntu.com/ubuntu focal-updates InRelease\n",
            "Hit:4 http://archive.ubuntu.com/ubuntu focal-backports InRelease\n",
            "Hit:5 https://cloud.r-project.org/bin/linux/ubuntu focal-cran40/ InRelease\n",
            "Hit:6 https://developer.download.nvidia.com/compute/cuda/repos/ubuntu2004/x86_64  InRelease\n",
            "Hit:7 http://ppa.launchpad.net/c2d4u.team/c2d4u4.0+/ubuntu focal InRelease\n",
            "Hit:8 http://ppa.launchpad.net/cran/libgit2/ubuntu focal InRelease\n",
            "Hit:9 http://ppa.launchpad.net/deadsnakes/ppa/ubuntu focal InRelease\n",
            "Hit:10 http://ppa.launchpad.net/graphics-drivers/ppa/ubuntu focal InRelease\n",
            "Hit:11 http://ppa.launchpad.net/ubuntugis/ppa/ubuntu focal InRelease\n",
            "Reading package lists... Done\n"
          ]
        }
      ]
    },
    {
      "cell_type": "code",
      "execution_count": 16,
      "metadata": {
        "id": "dCbD3Rij9U2T"
      },
      "outputs": [],
      "source": [
        "from pyspark.sql import SparkSession\n",
        "from pyspark.ml.stat import Correlation\n",
        "\n",
        "import pyspark.sql.functions as F"
      ]
    },
    {
      "cell_type": "code",
      "source": [
        "spark = SparkSession.builder.appName(\"SparkSQL\").getOrCreate()"
      ],
      "metadata": {
        "id": "5XElTm1D9vRS"
      },
      "execution_count": 17,
      "outputs": []
    },
    {
      "cell_type": "code",
      "source": [
        "from google.colab import files\n",
        "\n",
        "uploaded = files.upload()"
      ],
      "metadata": {
        "colab": {
          "base_uri": "https://localhost:8080/",
          "height": 73
        },
        "id": "4dBJTyfwTTPy",
        "outputId": "a6f5ac2f-93c3-4eac-962b-d662ebac22f0"
      },
      "execution_count": 18,
      "outputs": [
        {
          "output_type": "display_data",
          "data": {
            "text/plain": [
              "<IPython.core.display.HTML object>"
            ],
            "text/html": [
              "\n",
              "     <input type=\"file\" id=\"files-32ee081f-0223-4244-8016-bc6a423bb170\" name=\"files[]\" multiple disabled\n",
              "        style=\"border:none\" />\n",
              "     <output id=\"result-32ee081f-0223-4244-8016-bc6a423bb170\">\n",
              "      Upload widget is only available when the cell has been executed in the\n",
              "      current browser session. Please rerun this cell to enable.\n",
              "      </output>\n",
              "      <script>// Copyright 2017 Google LLC\n",
              "//\n",
              "// Licensed under the Apache License, Version 2.0 (the \"License\");\n",
              "// you may not use this file except in compliance with the License.\n",
              "// You may obtain a copy of the License at\n",
              "//\n",
              "//      http://www.apache.org/licenses/LICENSE-2.0\n",
              "//\n",
              "// Unless required by applicable law or agreed to in writing, software\n",
              "// distributed under the License is distributed on an \"AS IS\" BASIS,\n",
              "// WITHOUT WARRANTIES OR CONDITIONS OF ANY KIND, either express or implied.\n",
              "// See the License for the specific language governing permissions and\n",
              "// limitations under the License.\n",
              "\n",
              "/**\n",
              " * @fileoverview Helpers for google.colab Python module.\n",
              " */\n",
              "(function(scope) {\n",
              "function span(text, styleAttributes = {}) {\n",
              "  const element = document.createElement('span');\n",
              "  element.textContent = text;\n",
              "  for (const key of Object.keys(styleAttributes)) {\n",
              "    element.style[key] = styleAttributes[key];\n",
              "  }\n",
              "  return element;\n",
              "}\n",
              "\n",
              "// Max number of bytes which will be uploaded at a time.\n",
              "const MAX_PAYLOAD_SIZE = 100 * 1024;\n",
              "\n",
              "function _uploadFiles(inputId, outputId) {\n",
              "  const steps = uploadFilesStep(inputId, outputId);\n",
              "  const outputElement = document.getElementById(outputId);\n",
              "  // Cache steps on the outputElement to make it available for the next call\n",
              "  // to uploadFilesContinue from Python.\n",
              "  outputElement.steps = steps;\n",
              "\n",
              "  return _uploadFilesContinue(outputId);\n",
              "}\n",
              "\n",
              "// This is roughly an async generator (not supported in the browser yet),\n",
              "// where there are multiple asynchronous steps and the Python side is going\n",
              "// to poll for completion of each step.\n",
              "// This uses a Promise to block the python side on completion of each step,\n",
              "// then passes the result of the previous step as the input to the next step.\n",
              "function _uploadFilesContinue(outputId) {\n",
              "  const outputElement = document.getElementById(outputId);\n",
              "  const steps = outputElement.steps;\n",
              "\n",
              "  const next = steps.next(outputElement.lastPromiseValue);\n",
              "  return Promise.resolve(next.value.promise).then((value) => {\n",
              "    // Cache the last promise value to make it available to the next\n",
              "    // step of the generator.\n",
              "    outputElement.lastPromiseValue = value;\n",
              "    return next.value.response;\n",
              "  });\n",
              "}\n",
              "\n",
              "/**\n",
              " * Generator function which is called between each async step of the upload\n",
              " * process.\n",
              " * @param {string} inputId Element ID of the input file picker element.\n",
              " * @param {string} outputId Element ID of the output display.\n",
              " * @return {!Iterable<!Object>} Iterable of next steps.\n",
              " */\n",
              "function* uploadFilesStep(inputId, outputId) {\n",
              "  const inputElement = document.getElementById(inputId);\n",
              "  inputElement.disabled = false;\n",
              "\n",
              "  const outputElement = document.getElementById(outputId);\n",
              "  outputElement.innerHTML = '';\n",
              "\n",
              "  const pickedPromise = new Promise((resolve) => {\n",
              "    inputElement.addEventListener('change', (e) => {\n",
              "      resolve(e.target.files);\n",
              "    });\n",
              "  });\n",
              "\n",
              "  const cancel = document.createElement('button');\n",
              "  inputElement.parentElement.appendChild(cancel);\n",
              "  cancel.textContent = 'Cancel upload';\n",
              "  const cancelPromise = new Promise((resolve) => {\n",
              "    cancel.onclick = () => {\n",
              "      resolve(null);\n",
              "    };\n",
              "  });\n",
              "\n",
              "  // Wait for the user to pick the files.\n",
              "  const files = yield {\n",
              "    promise: Promise.race([pickedPromise, cancelPromise]),\n",
              "    response: {\n",
              "      action: 'starting',\n",
              "    }\n",
              "  };\n",
              "\n",
              "  cancel.remove();\n",
              "\n",
              "  // Disable the input element since further picks are not allowed.\n",
              "  inputElement.disabled = true;\n",
              "\n",
              "  if (!files) {\n",
              "    return {\n",
              "      response: {\n",
              "        action: 'complete',\n",
              "      }\n",
              "    };\n",
              "  }\n",
              "\n",
              "  for (const file of files) {\n",
              "    const li = document.createElement('li');\n",
              "    li.append(span(file.name, {fontWeight: 'bold'}));\n",
              "    li.append(span(\n",
              "        `(${file.type || 'n/a'}) - ${file.size} bytes, ` +\n",
              "        `last modified: ${\n",
              "            file.lastModifiedDate ? file.lastModifiedDate.toLocaleDateString() :\n",
              "                                    'n/a'} - `));\n",
              "    const percent = span('0% done');\n",
              "    li.appendChild(percent);\n",
              "\n",
              "    outputElement.appendChild(li);\n",
              "\n",
              "    const fileDataPromise = new Promise((resolve) => {\n",
              "      const reader = new FileReader();\n",
              "      reader.onload = (e) => {\n",
              "        resolve(e.target.result);\n",
              "      };\n",
              "      reader.readAsArrayBuffer(file);\n",
              "    });\n",
              "    // Wait for the data to be ready.\n",
              "    let fileData = yield {\n",
              "      promise: fileDataPromise,\n",
              "      response: {\n",
              "        action: 'continue',\n",
              "      }\n",
              "    };\n",
              "\n",
              "    // Use a chunked sending to avoid message size limits. See b/62115660.\n",
              "    let position = 0;\n",
              "    do {\n",
              "      const length = Math.min(fileData.byteLength - position, MAX_PAYLOAD_SIZE);\n",
              "      const chunk = new Uint8Array(fileData, position, length);\n",
              "      position += length;\n",
              "\n",
              "      const base64 = btoa(String.fromCharCode.apply(null, chunk));\n",
              "      yield {\n",
              "        response: {\n",
              "          action: 'append',\n",
              "          file: file.name,\n",
              "          data: base64,\n",
              "        },\n",
              "      };\n",
              "\n",
              "      let percentDone = fileData.byteLength === 0 ?\n",
              "          100 :\n",
              "          Math.round((position / fileData.byteLength) * 100);\n",
              "      percent.textContent = `${percentDone}% done`;\n",
              "\n",
              "    } while (position < fileData.byteLength);\n",
              "  }\n",
              "\n",
              "  // All done.\n",
              "  yield {\n",
              "    response: {\n",
              "      action: 'complete',\n",
              "    }\n",
              "  };\n",
              "}\n",
              "\n",
              "scope.google = scope.google || {};\n",
              "scope.google.colab = scope.google.colab || {};\n",
              "scope.google.colab._files = {\n",
              "  _uploadFiles,\n",
              "  _uploadFilesContinue,\n",
              "};\n",
              "})(self);\n",
              "</script> "
            ]
          },
          "metadata": {}
        },
        {
          "output_type": "stream",
          "name": "stdout",
          "text": [
            "Saving filtered_encoded_dataset.csv to filtered_encoded_dataset (1).csv\n"
          ]
        }
      ]
    },
    {
      "cell_type": "code",
      "source": [
        "import pandas as pd\n",
        "\n",
        "# Get the file name\n",
        "file_name = next(iter(uploaded))\n",
        "\n",
        "# Read the CSV file into a Pandas DataFrame\n",
        "df = pd.read_csv(file_name)\n",
        "\n",
        "# Convert the DataFrame to a Spark DataFrame\n",
        "spark_df = spark.createDataFrame(df)\n",
        "\n",
        "# Show DataFrame\n",
        "spark_df.show()"
      ],
      "metadata": {
        "colab": {
          "base_uri": "https://localhost:8080/"
        },
        "id": "BNL5ilJoUx0M",
        "outputId": "eabc2588-38b8-4a44-a4da-62953d7884ba"
      },
      "execution_count": 19,
      "outputs": [
        {
          "output_type": "stream",
          "name": "stderr",
          "text": [
            "/content/spark-3.3.2-bin-hadoop3/python/pyspark/sql/pandas/conversion.py:474: FutureWarning: iteritems is deprecated and will be removed in a future version. Use .items instead.\n",
            "  for column, series in pdf.iteritems():\n",
            "/content/spark-3.3.2-bin-hadoop3/python/pyspark/sql/pandas/conversion.py:486: FutureWarning: iteritems is deprecated and will be removed in a future version. Use .items instead.\n",
            "  for column, series in pdf.iteritems():\n"
          ]
        },
        {
          "output_type": "stream",
          "name": "stdout",
          "text": [
            "+----------+-----------------+--------------------+----------+--------+------------+------+--------+----+-----------+------------+----------------+--------+-------+-------+------------------+----------------+----------------+----------------+----------------+----------------+-----+-----+-----+-----+-----+-----+-----+-----+-----+-----+------+------+--------------------+--------------------+--------------------+--------------------+--------------------+--------------------+-------------+-------------+-------------+-------------+-------------+-------------+-------------+\n",
            "|Unnamed: 0|   primary_artist|          track_name|popularity|explicit|danceability|energy|loudness|mode|speechiness|acousticness|instrumentalness|liveness|valence|  tempo|      duration_min|time_signature_0|time_signature_1|time_signature_3|time_signature_4|time_signature_5|key_0|key_1|key_2|key_3|key_4|key_5|key_6|key_7|key_8|key_9|key_10|key_11|num_artists_binned_1|num_artists_binned_2|num_artists_binned_3|num_artists_binned_4|num_artists_binned_5|num_artists_binned_6|track_genre_0|track_genre_1|track_genre_2|track_genre_3|track_genre_4|track_genre_5|track_genre_6|\n",
            "+----------+-----------------+--------------------+----------+--------+------------+------+--------+----+-----------+------------+----------------+--------+-------+-------+------------------+----------------+----------------+----------------+----------------+----------------+-----+-----+-----+-----+-----+-----+-----+-----+-----+-----+------+------+--------------------+--------------------+--------------------+--------------------+--------------------+--------------------+-------------+-------------+-------------+-------------+-------------+-------------+-------------+\n",
            "|         0|      Gen Hoshino|              Comedy|        73|       0|       0.676| 0.461|  -6.746|   0|      0.143|      0.0322|         1.01E-6|   0.358|  0.715| 87.917| 3.844433333333333|               0|               0|               0|               1|               0|    0|    1|    0|    0|    0|    0|    0|    0|    0|    0|     0|     0|                   1|                   0|                   0|                   0|                   0|                   0|            0|            0|            0|            0|            0|            0|            1|\n",
            "|         1|     Ben Woodward|    Ghost - Acoustic|        55|       0|        0.42| 0.166| -17.235|   1|     0.0763|       0.924|         5.56E-6|   0.101|  0.267| 77.489|            2.4935|               0|               0|               0|               1|               0|    0|    1|    0|    0|    0|    0|    0|    0|    0|    0|     0|     0|                   1|                   0|                   0|                   0|                   0|                   0|            0|            0|            0|            0|            0|            0|            1|\n",
            "|         2|Ingrid Michaelson|      To Begin Again|        57|       0|       0.438| 0.359|  -9.734|   1|     0.0557|        0.21|             0.0|   0.117|   0.12| 76.332|3.5137666666666667|               0|               0|               0|               1|               0|    1|    0|    0|    0|    0|    0|    0|    0|    0|    0|     0|     0|                   0|                   1|                   0|                   0|                   0|                   0|            0|            0|            0|            0|            0|            0|            1|\n",
            "|         3|     Kina Grannis|Can't Help Fallin...|        71|       0|       0.266|0.0596| -18.515|   1|     0.0363|       0.905|         7.07E-5|   0.132|  0.143| 181.74|           3.36555|               0|               0|               1|               0|               0|    1|    0|    0|    0|    0|    0|    0|    0|    0|    0|     0|     0|                   1|                   0|                   0|                   0|                   0|                   0|            0|            0|            0|            0|            0|            0|            1|\n",
            "|         4| Chord Overstreet|             Hold On|        82|       0|       0.618| 0.443|  -9.681|   1|     0.0526|       0.469|             0.0|  0.0829|  0.167|119.949| 3.314216666666667|               0|               0|               0|               1|               0|    0|    0|    1|    0|    0|    0|    0|    0|    0|    0|     0|     0|                   1|                   0|                   0|                   0|                   0|                   0|            0|            0|            0|            0|            0|            0|            1|\n",
            "|         5|     Tyrone Wells|Days I Will Remember|        58|       0|       0.688| 0.481|  -8.807|   1|      0.105|       0.289|             0.0|   0.189|  0.666| 98.017| 3.570666666666667|               0|               0|               0|               1|               0|    0|    0|    0|    0|    0|    0|    1|    0|    0|    0|     0|     0|                   1|                   0|                   0|                   0|                   0|                   0|            0|            0|            0|            0|            0|            0|            1|\n",
            "|         6|A Great Big World|       Say Something|        74|       0|       0.407| 0.147|  -8.822|   1|     0.0355|       0.857|         2.89E-6|  0.0913| 0.0765|141.284| 3.823333333333333|               0|               0|               1|               0|               0|    0|    0|    1|    0|    0|    0|    0|    0|    0|    0|     0|     0|                   0|                   1|                   0|                   0|                   0|                   0|            0|            0|            0|            0|            0|            0|            1|\n",
            "|         7|       Jason Mraz|           I'm Yours|        80|       0|       0.703| 0.444|  -9.331|   1|     0.0417|       0.559|             0.0|  0.0973|  0.712| 150.96|            4.0491|               0|               0|               0|               1|               0|    0|    0|    0|    0|    0|    0|    0|    0|    0|    0|     0|     1|                   1|                   0|                   0|                   0|                   0|                   0|            0|            0|            0|            0|            0|            0|            1|\n",
            "|         8|       Jason Mraz|               Lucky|        74|       0|       0.625| 0.414|    -8.7|   1|     0.0369|       0.294|             0.0|   0.151|  0.669|130.088|3.1602166666666665|               0|               0|               0|               1|               0|    1|    0|    0|    0|    0|    0|    0|    0|    0|    0|     0|     0|                   0|                   1|                   0|                   0|                   0|                   0|            0|            0|            0|            0|            0|            0|            1|\n",
            "|         9|   Ross Copperman|              Hunger|        56|       0|       0.442| 0.632|   -6.77|   1|     0.0295|       0.426|         0.00419|  0.0735|  0.196| 78.899|3.4265666666666665|               0|               0|               0|               1|               0|    0|    1|    0|    0|    0|    0|    0|    0|    0|    0|     0|     0|                   1|                   0|                   0|                   0|                   0|                   0|            0|            0|            0|            0|            0|            0|            1|\n",
            "|        10|     Zack Tabudlo|Give Me Your Forever|        74|       0|       0.627| 0.363|  -8.127|   1|     0.0291|       0.279|             0.0|  0.0928|  0.301| 99.905|              4.08|               0|               0|               0|               1|               0|    0|    0|    0|    0|    0|    0|    0|    0|    1|    0|     0|     0|                   1|                   0|                   0|                   0|                   0|                   0|            0|            0|            0|            0|            0|            0|            1|\n",
            "|        11|       Jason Mraz|     I Won't Give Up|        69|       0|       0.483| 0.303| -10.058|   1|     0.0429|       0.694|             0.0|   0.115|  0.139|133.406|           4.00275|               0|               0|               1|               0|               0|    0|    0|    0|    0|    1|    0|    0|    0|    0|    0|     0|     0|                   1|                   0|                   0|                   0|                   0|                   0|            0|            0|            0|            0|            0|            0|            1|\n",
            "|        12|         Dan Berk|                Solo|        52|       0|       0.489| 0.314|  -9.245|   0|     0.0331|       0.749|             0.0|   0.113|  0.607|124.234|3.3118666666666665|               0|               0|               0|               1|               0|    0|    0|    0|    0|    0|    0|    0|    1|    0|    0|     0|     0|                   1|                   0|                   0|                   0|                   0|                   0|            0|            0|            0|            0|            0|            0|            1|\n",
            "|        13|    Anna Hamilton|            Bad Liar|        62|       0|       0.691| 0.234|  -6.441|   1|     0.0285|       0.777|             0.0|    0.12|  0.209| 87.103|            4.1408|               0|               0|               0|               1|               0|    0|    0|    0|    1|    0|    0|    0|    0|    0|    0|     0|     0|                   1|                   0|                   0|                   0|                   0|                   0|            0|            0|            0|            0|            0|            0|            1|\n",
            "|        14| Chord Overstreet|     Hold On - Remix|        56|       0|       0.755|  0.78|  -6.084|   1|     0.0327|       0.124|         2.83E-5|   0.121|  0.387|120.004|           3.13555|               0|               0|               0|               1|               0|    0|    0|    1|    0|    0|    0|    0|    0|    0|    0|     0|     0|                   0|                   1|                   0|                   0|                   0|                   0|            0|            0|            0|            0|            0|            0|            1|\n",
            "|        15|      Landon Pigg|Falling in Love a...|        58|       0|       0.489| 0.561|  -7.933|   1|     0.0274|         0.2|         4.56E-5|   0.179|  0.238| 83.457|            4.0831|               0|               0|               1|               0|               0|    0|    0|    0|    0|    1|    0|    0|    0|    0|    0|     0|     0|                   1|                   0|                   0|                   0|                   0|                   0|            0|            0|            0|            0|            0|            0|            1|\n",
            "|        16|       Andrew Foy|ily (i love you b...|        56|       0|       0.706| 0.112| -18.098|   1|     0.0391|       0.827|         4.03E-6|   0.125|  0.414|110.154|            2.1625|               0|               0|               0|               1|               0|    0|    0|    1|    0|    0|    0|    0|    0|    0|    0|     0|     0|                   0|                   1|                   0|                   0|                   0|                   0|            0|            0|            0|            0|            0|            0|            1|\n",
            "|        17|       Andrew Foy|         At My Worst|        54|       0|       0.795|0.0841|  -18.09|   0|     0.0461|       0.742|         1.17E-5|  0.0853|  0.609| 91.803|            2.8288|               0|               0|               0|               1|               0|    0|    0|    0|    0|    0|    0|    0|    0|    0|    0|     1|     0|                   0|                   1|                   0|                   0|                   0|                   0|            0|            0|            0|            0|            0|            0|            1|\n",
            "|        18|       Jason Mraz|               Lucky|        68|       0|       0.625| 0.414|    -8.7|   1|     0.0369|       0.294|             0.0|   0.151|  0.669|130.088|3.1602166666666665|               0|               0|               0|               1|               0|    1|    0|    0|    0|    0|    0|    0|    0|    0|    0|     0|     0|                   0|                   1|                   0|                   0|                   0|                   0|            0|            0|            0|            0|            0|            0|            1|\n",
            "|        19|     Boyce Avenue|          Photograph|        67|       0|       0.717|  0.32|  -8.393|   1|     0.0283|        0.83|             0.0|   0.107|  0.322|107.946| 4.336433333333333|               0|               0|               0|               1|               0|    0|    0|    0|    1|    0|    0|    0|    0|    0|    0|     0|     0|                   0|                   1|                   0|                   0|                   0|                   0|            0|            0|            0|            0|            0|            0|            1|\n",
            "+----------+-----------------+--------------------+----------+--------+------------+------+--------+----+-----------+------------+----------------+--------+-------+-------+------------------+----------------+----------------+----------------+----------------+----------------+-----+-----+-----+-----+-----+-----+-----+-----+-----+-----+------+------+--------------------+--------------------+--------------------+--------------------+--------------------+--------------------+-------------+-------------+-------------+-------------+-------------+-------------+-------------+\n",
            "only showing top 20 rows\n",
            "\n"
          ]
        }
      ]
    },
    {
      "cell_type": "code",
      "source": [
        "# Drop a single column from the DataFrame\n",
        "new_df = spark_df.drop(\"Unnamed: 0\")\n",
        "new_df.show()"
      ],
      "metadata": {
        "colab": {
          "base_uri": "https://localhost:8080/"
        },
        "id": "jXYmQB3gYSOJ",
        "outputId": "356aedb6-620e-47d4-aff0-94f872f34b41"
      },
      "execution_count": 20,
      "outputs": [
        {
          "output_type": "stream",
          "name": "stdout",
          "text": [
            "+-----------------+--------------------+----------+--------+------------+------+--------+----+-----------+------------+----------------+--------+-------+-------+------------------+----------------+----------------+----------------+----------------+----------------+-----+-----+-----+-----+-----+-----+-----+-----+-----+-----+------+------+--------------------+--------------------+--------------------+--------------------+--------------------+--------------------+-------------+-------------+-------------+-------------+-------------+-------------+-------------+\n",
            "|   primary_artist|          track_name|popularity|explicit|danceability|energy|loudness|mode|speechiness|acousticness|instrumentalness|liveness|valence|  tempo|      duration_min|time_signature_0|time_signature_1|time_signature_3|time_signature_4|time_signature_5|key_0|key_1|key_2|key_3|key_4|key_5|key_6|key_7|key_8|key_9|key_10|key_11|num_artists_binned_1|num_artists_binned_2|num_artists_binned_3|num_artists_binned_4|num_artists_binned_5|num_artists_binned_6|track_genre_0|track_genre_1|track_genre_2|track_genre_3|track_genre_4|track_genre_5|track_genre_6|\n",
            "+-----------------+--------------------+----------+--------+------------+------+--------+----+-----------+------------+----------------+--------+-------+-------+------------------+----------------+----------------+----------------+----------------+----------------+-----+-----+-----+-----+-----+-----+-----+-----+-----+-----+------+------+--------------------+--------------------+--------------------+--------------------+--------------------+--------------------+-------------+-------------+-------------+-------------+-------------+-------------+-------------+\n",
            "|      Gen Hoshino|              Comedy|        73|       0|       0.676| 0.461|  -6.746|   0|      0.143|      0.0322|         1.01E-6|   0.358|  0.715| 87.917| 3.844433333333333|               0|               0|               0|               1|               0|    0|    1|    0|    0|    0|    0|    0|    0|    0|    0|     0|     0|                   1|                   0|                   0|                   0|                   0|                   0|            0|            0|            0|            0|            0|            0|            1|\n",
            "|     Ben Woodward|    Ghost - Acoustic|        55|       0|        0.42| 0.166| -17.235|   1|     0.0763|       0.924|         5.56E-6|   0.101|  0.267| 77.489|            2.4935|               0|               0|               0|               1|               0|    0|    1|    0|    0|    0|    0|    0|    0|    0|    0|     0|     0|                   1|                   0|                   0|                   0|                   0|                   0|            0|            0|            0|            0|            0|            0|            1|\n",
            "|Ingrid Michaelson|      To Begin Again|        57|       0|       0.438| 0.359|  -9.734|   1|     0.0557|        0.21|             0.0|   0.117|   0.12| 76.332|3.5137666666666667|               0|               0|               0|               1|               0|    1|    0|    0|    0|    0|    0|    0|    0|    0|    0|     0|     0|                   0|                   1|                   0|                   0|                   0|                   0|            0|            0|            0|            0|            0|            0|            1|\n",
            "|     Kina Grannis|Can't Help Fallin...|        71|       0|       0.266|0.0596| -18.515|   1|     0.0363|       0.905|         7.07E-5|   0.132|  0.143| 181.74|           3.36555|               0|               0|               1|               0|               0|    1|    0|    0|    0|    0|    0|    0|    0|    0|    0|     0|     0|                   1|                   0|                   0|                   0|                   0|                   0|            0|            0|            0|            0|            0|            0|            1|\n",
            "| Chord Overstreet|             Hold On|        82|       0|       0.618| 0.443|  -9.681|   1|     0.0526|       0.469|             0.0|  0.0829|  0.167|119.949| 3.314216666666667|               0|               0|               0|               1|               0|    0|    0|    1|    0|    0|    0|    0|    0|    0|    0|     0|     0|                   1|                   0|                   0|                   0|                   0|                   0|            0|            0|            0|            0|            0|            0|            1|\n",
            "|     Tyrone Wells|Days I Will Remember|        58|       0|       0.688| 0.481|  -8.807|   1|      0.105|       0.289|             0.0|   0.189|  0.666| 98.017| 3.570666666666667|               0|               0|               0|               1|               0|    0|    0|    0|    0|    0|    0|    1|    0|    0|    0|     0|     0|                   1|                   0|                   0|                   0|                   0|                   0|            0|            0|            0|            0|            0|            0|            1|\n",
            "|A Great Big World|       Say Something|        74|       0|       0.407| 0.147|  -8.822|   1|     0.0355|       0.857|         2.89E-6|  0.0913| 0.0765|141.284| 3.823333333333333|               0|               0|               1|               0|               0|    0|    0|    1|    0|    0|    0|    0|    0|    0|    0|     0|     0|                   0|                   1|                   0|                   0|                   0|                   0|            0|            0|            0|            0|            0|            0|            1|\n",
            "|       Jason Mraz|           I'm Yours|        80|       0|       0.703| 0.444|  -9.331|   1|     0.0417|       0.559|             0.0|  0.0973|  0.712| 150.96|            4.0491|               0|               0|               0|               1|               0|    0|    0|    0|    0|    0|    0|    0|    0|    0|    0|     0|     1|                   1|                   0|                   0|                   0|                   0|                   0|            0|            0|            0|            0|            0|            0|            1|\n",
            "|       Jason Mraz|               Lucky|        74|       0|       0.625| 0.414|    -8.7|   1|     0.0369|       0.294|             0.0|   0.151|  0.669|130.088|3.1602166666666665|               0|               0|               0|               1|               0|    1|    0|    0|    0|    0|    0|    0|    0|    0|    0|     0|     0|                   0|                   1|                   0|                   0|                   0|                   0|            0|            0|            0|            0|            0|            0|            1|\n",
            "|   Ross Copperman|              Hunger|        56|       0|       0.442| 0.632|   -6.77|   1|     0.0295|       0.426|         0.00419|  0.0735|  0.196| 78.899|3.4265666666666665|               0|               0|               0|               1|               0|    0|    1|    0|    0|    0|    0|    0|    0|    0|    0|     0|     0|                   1|                   0|                   0|                   0|                   0|                   0|            0|            0|            0|            0|            0|            0|            1|\n",
            "|     Zack Tabudlo|Give Me Your Forever|        74|       0|       0.627| 0.363|  -8.127|   1|     0.0291|       0.279|             0.0|  0.0928|  0.301| 99.905|              4.08|               0|               0|               0|               1|               0|    0|    0|    0|    0|    0|    0|    0|    0|    1|    0|     0|     0|                   1|                   0|                   0|                   0|                   0|                   0|            0|            0|            0|            0|            0|            0|            1|\n",
            "|       Jason Mraz|     I Won't Give Up|        69|       0|       0.483| 0.303| -10.058|   1|     0.0429|       0.694|             0.0|   0.115|  0.139|133.406|           4.00275|               0|               0|               1|               0|               0|    0|    0|    0|    0|    1|    0|    0|    0|    0|    0|     0|     0|                   1|                   0|                   0|                   0|                   0|                   0|            0|            0|            0|            0|            0|            0|            1|\n",
            "|         Dan Berk|                Solo|        52|       0|       0.489| 0.314|  -9.245|   0|     0.0331|       0.749|             0.0|   0.113|  0.607|124.234|3.3118666666666665|               0|               0|               0|               1|               0|    0|    0|    0|    0|    0|    0|    0|    1|    0|    0|     0|     0|                   1|                   0|                   0|                   0|                   0|                   0|            0|            0|            0|            0|            0|            0|            1|\n",
            "|    Anna Hamilton|            Bad Liar|        62|       0|       0.691| 0.234|  -6.441|   1|     0.0285|       0.777|             0.0|    0.12|  0.209| 87.103|            4.1408|               0|               0|               0|               1|               0|    0|    0|    0|    1|    0|    0|    0|    0|    0|    0|     0|     0|                   1|                   0|                   0|                   0|                   0|                   0|            0|            0|            0|            0|            0|            0|            1|\n",
            "| Chord Overstreet|     Hold On - Remix|        56|       0|       0.755|  0.78|  -6.084|   1|     0.0327|       0.124|         2.83E-5|   0.121|  0.387|120.004|           3.13555|               0|               0|               0|               1|               0|    0|    0|    1|    0|    0|    0|    0|    0|    0|    0|     0|     0|                   0|                   1|                   0|                   0|                   0|                   0|            0|            0|            0|            0|            0|            0|            1|\n",
            "|      Landon Pigg|Falling in Love a...|        58|       0|       0.489| 0.561|  -7.933|   1|     0.0274|         0.2|         4.56E-5|   0.179|  0.238| 83.457|            4.0831|               0|               0|               1|               0|               0|    0|    0|    0|    0|    1|    0|    0|    0|    0|    0|     0|     0|                   1|                   0|                   0|                   0|                   0|                   0|            0|            0|            0|            0|            0|            0|            1|\n",
            "|       Andrew Foy|ily (i love you b...|        56|       0|       0.706| 0.112| -18.098|   1|     0.0391|       0.827|         4.03E-6|   0.125|  0.414|110.154|            2.1625|               0|               0|               0|               1|               0|    0|    0|    1|    0|    0|    0|    0|    0|    0|    0|     0|     0|                   0|                   1|                   0|                   0|                   0|                   0|            0|            0|            0|            0|            0|            0|            1|\n",
            "|       Andrew Foy|         At My Worst|        54|       0|       0.795|0.0841|  -18.09|   0|     0.0461|       0.742|         1.17E-5|  0.0853|  0.609| 91.803|            2.8288|               0|               0|               0|               1|               0|    0|    0|    0|    0|    0|    0|    0|    0|    0|    0|     1|     0|                   0|                   1|                   0|                   0|                   0|                   0|            0|            0|            0|            0|            0|            0|            1|\n",
            "|       Jason Mraz|               Lucky|        68|       0|       0.625| 0.414|    -8.7|   1|     0.0369|       0.294|             0.0|   0.151|  0.669|130.088|3.1602166666666665|               0|               0|               0|               1|               0|    1|    0|    0|    0|    0|    0|    0|    0|    0|    0|     0|     0|                   0|                   1|                   0|                   0|                   0|                   0|            0|            0|            0|            0|            0|            0|            1|\n",
            "|     Boyce Avenue|          Photograph|        67|       0|       0.717|  0.32|  -8.393|   1|     0.0283|        0.83|             0.0|   0.107|  0.322|107.946| 4.336433333333333|               0|               0|               0|               1|               0|    0|    0|    0|    1|    0|    0|    0|    0|    0|    0|     0|     0|                   0|                   1|                   0|                   0|                   0|                   0|            0|            0|            0|            0|            0|            0|            1|\n",
            "+-----------------+--------------------+----------+--------+------------+------+--------+----+-----------+------------+----------------+--------+-------+-------+------------------+----------------+----------------+----------------+----------------+----------------+-----+-----+-----+-----+-----+-----+-----+-----+-----+-----+------+------+--------------------+--------------------+--------------------+--------------------+--------------------+--------------------+-------------+-------------+-------------+-------------+-------------+-------------+-------------+\n",
            "only showing top 20 rows\n",
            "\n"
          ]
        }
      ]
    },
    {
      "cell_type": "code",
      "source": [
        "# Calculate the sum of each genre\n",
        "column_sum = df[{'track_genre_0',\n",
        "                'track_genre_1',\n",
        "                'track_genre_3',\n",
        "                'track_genre_4',\n",
        "                'track_genre_5',\n",
        "                'track_genre_6'}].sum()\n",
        "\n",
        "print(column_sum)"
      ],
      "metadata": {
        "id": "AVXZknmAfVOM",
        "colab": {
          "base_uri": "https://localhost:8080/"
        },
        "outputId": "57fd7eb4-91e2-48f7-eaf2-a0cc42bb286c"
      },
      "execution_count": 21,
      "outputs": [
        {
          "output_type": "stream",
          "name": "stdout",
          "text": [
            "track_genre_6    56786\n",
            "track_genre_0    50817\n",
            "track_genre_4    55736\n",
            "track_genre_5    56815\n",
            "track_genre_1    50872\n",
            "track_genre_3    55773\n",
            "dtype: int64\n"
          ]
        },
        {
          "output_type": "stream",
          "name": "stderr",
          "text": [
            "<ipython-input-21-ce8b9f08ed6f>:2: FutureWarning: Passing a set as an indexer is deprecated and will raise in a future version. Use a list instead.\n",
            "  column_sum = df[{'track_genre_0',\n"
          ]
        }
      ]
    },
    {
      "cell_type": "markdown",
      "source": [
        "There are more "
      ],
      "metadata": {
        "id": "2YSHOJQmC_Wf"
      }
    },
    {
      "cell_type": "code",
      "source": [
        "new_df.write.csv('movies_out_spark.csv')"
      ],
      "metadata": {
        "id": "7iH3rj0MJFWj"
      },
      "execution_count": 24,
      "outputs": []
    }
  ]
}